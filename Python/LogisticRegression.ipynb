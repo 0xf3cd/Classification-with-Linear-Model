{
 "cells": [
  {
   "cell_type": "code",
   "execution_count": 58,
   "metadata": {},
   "outputs": [],
   "source": [
    "import numpy as np\n",
    "import pandas as pd\n",
    "from matplotlib import pyplot as plt\n",
    "from sklearn import datasets, model_selection, preprocessing"
   ]
  },
  {
   "cell_type": "code",
   "execution_count": 59,
   "metadata": {},
   "outputs": [],
   "source": [
    "X_y_dict = dict()"
   ]
  },
  {
   "cell_type": "code",
   "execution_count": 60,
   "metadata": {},
   "outputs": [],
   "source": [
    "cancer_dataset = datasets.load_breast_cancer()\n",
    "# cancer_data = pd.DataFrame(data=cancer_dataset.data, columns=cancer_dataset.feature_names)\n",
    "\n",
    "# label all items in the dataset\n",
    "# cancer_data['type'] = [cancer_dataset.target_names[idx] for idx in cancer_dataset.target]\n",
    "# cancer_data.head() # the last column \"type\" was added\n",
    "\n",
    "cancer_X = cancer_dataset.data\n",
    "cancer_y = cancer_dataset.target\n",
    "\n",
    "X_y_dict['cancer'] = [cancer_X, cancer_y]"
   ]
  },
  {
   "cell_type": "code",
   "execution_count": 61,
   "metadata": {},
   "outputs": [],
   "source": [
    "iris_dataset = datasets.load_iris()\n",
    "# iris_data = pd.DataFrame(data=iris_dataset.data, columns=iris_dataset.feature_names)\n",
    "\n",
    "# label all items in the dataset\n",
    "# iris_data['type'] = [iris_dataset.target_names[idx] for idx in iris_dataset.target]\n",
    "# iris_data.head() # the last column \"type\" was added\n",
    "\n",
    "iris_X = iris_dataset.data \n",
    "iris_y = iris_dataset.target\n",
    "\n",
    "X_y_dict['iris'] = [iris_X, iris_y]"
   ]
  },
  {
   "cell_type": "code",
   "execution_count": 62,
   "metadata": {},
   "outputs": [],
   "source": [
    "testdata = np.loadtxt('testdata.csv')\n",
    "testdata_X = testdata[:, 0:-1]\n",
    "testdata_y = testdata[:, -1]\n",
    "\n",
    "X_y_dict['testdata'] = [testdata_X, testdata_y]"
   ]
  },
  {
   "cell_type": "code",
   "execution_count": 63,
   "metadata": {},
   "outputs": [],
   "source": [
    "heart_df = pd.read_csv('heart.csv')\n",
    "heart_X = df.to_numpy()[:, 0:-1]\n",
    "heart_y = df.to_numpy()[:, -1]\n",
    "\n",
    "X_y_dict['heart'] = [heart_X, heart_y]"
   ]
  },
  {
   "cell_type": "code",
   "execution_count": 64,
   "metadata": {},
   "outputs": [],
   "source": [
    "[X, y] = X_y_dict['heart']\n",
    "\n",
    "\n",
    "feature_amount = X.shape[1]\n",
    "\n",
    "# X_std = X.std(axis=0)\n",
    "# X_mean = X.mean(axis=0)\n",
    "# X_norm = (X - X_mean) / X_std \n",
    "\n",
    "X_train, X_test, y_train, y_test = model_selection.train_test_split(X, y, test_size = 0.3)\n",
    "\n",
    "sc = preprocessing.StandardScaler()\n",
    "X_train = sc.fit_transform(X_train)\n",
    "X_test = sc.transform(X_test)\n",
    "\n",
    "train_ones = np.ones((X_train.shape[0], 1))\n",
    "X_train = np.hstack((X_train, train_ones))\n",
    "\n",
    "test_ones = np.ones((X_test.shape[0], 1))\n",
    "X_test = np.hstack((X_test, test_ones))\n",
    "\n",
    "y_train = y_train.reshape((y_train.shape[0], 1))\n",
    "y_test = y_test.reshape((y_test.shape[0], 1))\n",
    "\n",
    "# print(X_train.shape)\n",
    "# print(y_train.shape)\n",
    "# print(X_test.shape)\n",
    "# print(y_test.shape)"
   ]
  },
  {
   "cell_type": "code",
   "execution_count": 65,
   "metadata": {},
   "outputs": [],
   "source": [
    "def sigmoid(z):\n",
    "    s = 1 / (1 + np.exp(-z))\n",
    "    return s\n",
    "\n",
    "def predict(theta, X):\n",
    "    z = X.dot(theta)\n",
    "    return sigmoid(z)\n",
    "\n",
    "def get_cost_value(y, y_pred):\n",
    "    sample_amount = y.shape[0]\n",
    "    value_sum = 0\n",
    "    for i in range(sample_amount):\n",
    "        value_sum += y[i] * np.log(y_pred[i]) + (1 - y[i]) * np.log(1 - y_pred[i])\n",
    "    return (-1.0 / sample_amount) * value_sum[0] \n",
    "\n",
    "def update(theta, X, y, y_pred, alpha=0.05):\n",
    "    sample_amount = X.shape[0]\n",
    "    dtheta = X.T.dot(y - y_pred) / sample_amount\n",
    "    return theta + alpha * dtheta\n",
    "\n",
    "def get_accuracy(y, y_pred):\n",
    "    count = 0\n",
    "    for i in range(y_pred.shape[0]):\n",
    "        pred = 1 if y_pred[i][0] >= 0.5 else 0\n",
    "        if pred == y[i]:\n",
    "            count += 1\n",
    "    return count / y.shape[0]\n",
    "    \n",
    "def train(theta, X, y, iterations=1000):\n",
    "    cost_value_record = []\n",
    "    accuracy_record = []\n",
    "    \n",
    "    for i in range(iterations):\n",
    "        y_pred = predict(theta, X)\n",
    "        cost_value = get_cost_value(y, y_pred)\n",
    "        accuracy = get_accuracy(y, y_pred)\n",
    "        \n",
    "        cost_value_record.append(cost_value)\n",
    "        accuracy_record.append(accuracy)\n",
    "        \n",
    "#         print(i, accuracy, cost_value)\n",
    "\n",
    "        theta = update(theta, X, y, y_pred)\n",
    "    \n",
    "    return theta, cost_value_record, accuracy_record"
   ]
  },
  {
   "cell_type": "code",
   "execution_count": 66,
   "metadata": {},
   "outputs": [
    {
     "name": "stdout",
     "output_type": "stream",
     "text": [
      "70 91 0.7692307692307693\n"
     ]
    }
   ],
   "source": [
    "init_theta = np.random.randn(feature_amount+1, 1)\n",
    "\n",
    "# print(init_theta)\n",
    "\n",
    "theta, cost_values, accs = train(init_theta, X_train, y_train, 1000)\n",
    "# print(cost_values[-1], accs[-1])\n",
    "y_pred = predict(theta, X_test)\n",
    "# print(y_pred)\n",
    "count = 0\n",
    "for i in range(y_pred.shape[0]):\n",
    "    pred = 1 if y_pred[i][0] >= 0.5 else 0\n",
    "    if pred == y_test[i][0]:\n",
    "        count += 1\n",
    "print(count, y_pred.shape[0], count/y_pred.shape[0])"
   ]
  },
  {
   "cell_type": "code",
   "execution_count": 67,
   "metadata": {},
   "outputs": [
    {
     "name": "stderr",
     "output_type": "stream",
     "text": [
      "/usr/local/lib/python3.7/site-packages/sklearn/linear_model/sag.py:334: ConvergenceWarning: The max_iter was reached which means the coef_ did not converge\n",
      "  \"the coef_ did not converge\", ConvergenceWarning)\n"
     ]
    },
    {
     "data": {
      "text/plain": [
       "LogisticRegression(C=1.0, class_weight=None, dual=False, fit_intercept=True,\n",
       "          intercept_scaling=1, max_iter=100, multi_class='auto',\n",
       "          n_jobs=None, penalty='l2', random_state=None, solver='saga',\n",
       "          tol=0.0001, verbose=0, warm_start=False)"
      ]
     },
     "execution_count": 67,
     "metadata": {},
     "output_type": "execute_result"
    }
   ],
   "source": [
    "from sklearn.linear_model import LogisticRegression\n",
    "lr = LogisticRegression(penalty='l2', solver='saga', multi_class='auto')\n",
    "lr.fit(X_train,y_train.ravel())"
   ]
  },
  {
   "cell_type": "code",
   "execution_count": 68,
   "metadata": {},
   "outputs": [
    {
     "name": "stdout",
     "output_type": "stream",
     "text": [
      "Logistic Regression模型训练集的准确率：0.877\n",
      "Logistic Regression模型测试集的准确率：0.780\n",
      "Logistic Regression模型正确率：0.780\n"
     ]
    }
   ],
   "source": [
    "print(\"Logistic Regression模型训练集的准确率：%.3f\" %lr.score(X_train, y_train.ravel()))\n",
    "print(\"Logistic Regression模型测试集的准确率：%.3f\" %lr.score(X_test, y_test.ravel()))\n",
    "from sklearn import metrics\n",
    "y_hat = lr.predict(X_test)\n",
    "accuracy = metrics.accuracy_score(y_test.ravel(), y_hat) #错误率，也就是np.average(y_test==y_pred)\n",
    "print(\"Logistic Regression模型正确率：%.3f\" %accuracy)"
   ]
  },
  {
   "cell_type": "code",
   "execution_count": null,
   "metadata": {},
   "outputs": [],
   "source": []
  }
 ],
 "metadata": {
  "kernelspec": {
   "display_name": "Python 3",
   "language": "python",
   "name": "python3"
  },
  "language_info": {
   "codemirror_mode": {
    "name": "ipython",
    "version": 3
   },
   "file_extension": ".py",
   "mimetype": "text/x-python",
   "name": "python",
   "nbconvert_exporter": "python",
   "pygments_lexer": "ipython3",
   "version": "3.7.7"
  }
 },
 "nbformat": 4,
 "nbformat_minor": 4
}
