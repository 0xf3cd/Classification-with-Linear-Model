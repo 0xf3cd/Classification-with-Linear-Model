{
 "cells": [
  {
   "cell_type": "code",
   "execution_count": 10,
   "metadata": {},
   "outputs": [
    {
     "data": {
      "image/png": "[encoded data removed]",
      "text/plain": [
       "<Figure size 432x288 with 1 Axes>"
      ]
     },
     "metadata": {
      "needs_background": "light"
     },
     "output_type": "display_data"
    }
   ],
   "source": [
    "import math\n",
    "import numpy as np\n",
    "import matplotlib.pyplot as plt\n",
    "\n",
    "\n",
    "def sigmoid(z):\n",
    "    return 1 / (1 + np.exp(-z))\n",
    "\n",
    "\n",
    "def init_data():\n",
    "    data = np.loadtxt('data.csv')\n",
    "    dataMatIn = data[:, 0:-1]\n",
    "    classLabels = data[:, -1]\n",
    "    dataMatIn = np.insert(dataMatIn, 0, 1, axis=1)  #特征数据集，添加1是构造常数项x0\n",
    "    return dataMatIn, classLabels\n",
    "\n",
    "\n",
    "def grad_ascent(dataMatIn, classLabels):\n",
    "    dataMatrix = np.mat(dataMatIn)  #(m,n)\n",
    "    labelMat = np.mat(classLabels).transpose()\n",
    "    m, n = np.shape(dataMatrix)\n",
    "    weights = np.ones((n, 1))  #初始化回归系数（n, 1)\n",
    "    alpha = 0.001 #步长\n",
    "    maxCycle = 500  #最大循环次数\n",
    "\n",
    "    for i in range(maxCycle):\n",
    "        h = sigmoid(dataMatrix * weights)  #sigmoid 函数\n",
    "        error = labelMat - h  #y-h, (m - 1)\n",
    "        weights = weights + alpha * dataMatrix.transpose() * error\n",
    "    return weights\n",
    "\n",
    "\n",
    "def plotBestFIt(weights):\n",
    "    dataMatIn, classLabels = init_data()\n",
    "    n = np.shape(dataMatIn)[0]\n",
    "    xcord1 = []\n",
    "    ycord1 = []\n",
    "    xcord2 = []\n",
    "    ycord2 = []\n",
    "    for i in range(n):\n",
    "        if classLabels[i] == 1:\n",
    "            xcord1.append(dataMatIn[i][1])\n",
    "            ycord1.append(dataMatIn[i][2])\n",
    "        else:\n",
    "            xcord2.append(dataMatIn[i][1])\n",
    "            ycord2.append(dataMatIn[i][2])\n",
    "    fig = plt.figure()\n",
    "    ax = fig.add_subplot(111)\n",
    "    ax.scatter(xcord1, ycord1,s=30, c='red', marker='s')\n",
    "    ax.scatter(xcord2, ycord2, s=30, c='green')\n",
    "    x = np.arange(-3, 3, 0.1)\n",
    "    y = (-weights[0, 0] - weights[1, 0] * x) / weights[2, 0]  #matix\n",
    "    ax.plot(x, y)\n",
    "    plt.xlabel('X1')\n",
    "    plt.ylabel('X2')\n",
    "    plt.show()\n",
    "\n",
    "\n",
    "# 随机梯度上升法的思想是，每次只使用一个数据样本点来更新回归系数。这样就大大减小计算开销\n",
    "def stoc_grad_ascent(dataMatIn, classLabels):\n",
    "    m, n = np.shape(dataMatIn)\n",
    "    alpha = 0.01\n",
    "    weights = np.ones(n)\n",
    "    for i in range(m):\n",
    "        h = sigmoid(sum(dataMatIn[i] * weights))  #数值计算\n",
    "        error = classLabels[i] - h\n",
    "        weights = weights + alpha * error * dataMatIn[i]\n",
    "    return weights\n",
    "\n",
    "# 随机梯度上升法的思想是，每次只使用一个数据样本点来更新回归系数。这样就大大减小计算开销\n",
    "def stoc_grad_ascent_one(dataMatIn, classLabels, numIter=150):\n",
    "    m, n = np.shape(dataMatIn)\n",
    "    weights = np.ones(n)\n",
    "    for j in range(numIter):\n",
    "        dataIndex = list(range(m))\n",
    "        for i in range(m):\n",
    "            alpha = 4 / (1 + i + j) + 0.01 #保证多次迭代后新数据仍然有影响力\n",
    "            randIndex = int(np.random.uniform(0, len(dataIndex)))\n",
    "            h = sigmoid(sum(dataMatIn[i] * weights))  # 数值计算\n",
    "            error = classLabels[i] - h\n",
    "            weights = weights + alpha * error * dataMatIn[i]\n",
    "            del(dataIndex[randIndex])\n",
    "    return weights\n",
    "\n",
    "# 评价算法优劣势看它是或否收敛，是否达到稳定值，收敛越快，算法越优。\n",
    "\n",
    "if __name__ == '__main__':\n",
    "    dataMatIn, classLabels = init_data()\n",
    "#     print(classLabels.shape)\n",
    "#     print(np.mat(classLabels).shape)\n",
    "#     print(dataMatIn)\n",
    "#     print(classLabels)\n",
    "    r = stoc_grad_ascent_one(dataMatIn, classLabels)\n",
    "    r = np.mat(r).transpose()\n",
    "    plotBestFIt(r)\n",
    "\n"
   ]
  },
  {
   "cell_type": "code",
   "execution_count": null,
   "metadata": {},
   "outputs": [],
   "source": []
  }
 ],
 "metadata": {
  "kernelspec": {
   "display_name": "Python 3",
   "language": "python",
   "name": "python3"
  },
  "language_info": {
   "codemirror_mode": {
    "name": "ipython",
    "version": 3
   },
   "file_extension": ".py",
   "mimetype": "text/x-python",
   "name": "python",
   "nbconvert_exporter": "python",
   "pygments_lexer": "ipython3",
   "version": "3.7.7"
  }
 },
 "nbformat": 4,
 "nbformat_minor": 4
}
