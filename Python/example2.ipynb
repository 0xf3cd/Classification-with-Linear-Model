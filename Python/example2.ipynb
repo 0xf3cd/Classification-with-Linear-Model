{
 "cells": [
  {
   "cell_type": "code",
   "execution_count": 13,
   "metadata": {},
   "outputs": [
    {
     "name": "stderr",
     "output_type": "stream",
     "text": [
      "/usr/local/lib/python3.7/site-packages/sklearn/linear_model/logistic.py:433: FutureWarning: Default solver will be changed to 'lbfgs' in 0.22. Specify a solver to silence this warning.\n",
      "  FutureWarning)\n"
     ]
    }
   ],
   "source": [
    "from sklearn.datasets import load_breast_cancer\n",
    "from sklearn.model_selection import train_test_split\n",
    "from sklearn.linear_model import LogisticRegression\n",
    "\n",
    "# load the dataset: breast_cancer\n",
    "breast_cancer = load_breast_cancer()\n",
    "samples = breast_cancer.data\n",
    "label = breast_cancer.target\n",
    "\n",
    "# 将矩阵随机划分成训练集和测试集, test_size表示测试集的比例(即训练集：测试集=7:3)\n",
    "sample_train, sample_test, label_train, label_test = train_test_split(samples, label, test_size=0.3)\n",
    "\n",
    "classifier = LogisticRegression()  # 使用类，参数全是默认的\n",
    "\n",
    "classifier.fit(sample_train, label_train)  # 训练分类模型(Fit the model according to the given training data)\n",
    "\n",
    "count = 0\n",
    "Length = len(label_test)\n",
    "\n",
    "for i in range(Length):\n",
    "    if classifier.predict(sample_test)[i] != label_test[i]:  # 预测测试样本\n",
    "        count += 1"
   ]
  },
  {
   "cell_type": "code",
   "execution_count": 14,
   "metadata": {},
   "outputs": [
    {
     "name": "stdout",
     "output_type": "stream",
     "text": [
      "12\n"
     ]
    }
   ],
   "source": [
    "print(count)"
   ]
  },
  {
   "cell_type": "code",
   "execution_count": 15,
   "metadata": {},
   "outputs": [
    {
     "name": "stdout",
     "output_type": "stream",
     "text": [
      "171\n"
     ]
    }
   ],
   "source": [
    "print(Length)"
   ]
  },
  {
   "cell_type": "code",
   "execution_count": null,
   "metadata": {},
   "outputs": [],
   "source": []
  }
 ],
 "metadata": {
  "kernelspec": {
   "display_name": "Python 3",
   "language": "python",
   "name": "python3"
  },
  "language_info": {
   "codemirror_mode": {
    "name": "ipython",
    "version": 3
   },
   "file_extension": ".py",
   "mimetype": "text/x-python",
   "name": "python",
   "nbconvert_exporter": "python",
   "pygments_lexer": "ipython3",
   "version": "3.7.7"
  }
 },
 "nbformat": 4,
 "nbformat_minor": 4
}
